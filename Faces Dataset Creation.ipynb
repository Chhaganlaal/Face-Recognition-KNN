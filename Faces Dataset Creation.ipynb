{
 "cells": [
  {
   "cell_type": "code",
   "execution_count": 1,
   "metadata": {},
   "outputs": [],
   "source": [
    "import numpy as np\n",
    "import cv2"
   ]
  },
  {
   "cell_type": "code",
   "execution_count": 2,
   "metadata": {},
   "outputs": [
    {
     "name": "stdout",
     "output_type": "stream",
     "text": [
      "Enter the name of the person: Upma\n",
      "1\n",
      "2\n",
      "3\n",
      "4\n",
      "5\n",
      "6\n",
      "7\n",
      "8\n",
      "9\n",
      "10\n",
      "11\n",
      "12\n",
      "13\n",
      "14\n",
      "15\n",
      "16\n",
      "17\n",
      "18\n",
      "19\n",
      "20\n",
      "21\n",
      "22\n",
      "23\n",
      "24\n",
      "25\n",
      "26\n",
      "27\n",
      "28\n",
      "29\n",
      "30\n",
      "31\n",
      "Data saved at: E:\\Machine Learning\\ML_course\\Face Dataset\\Upma.npy\n"
     ]
    }
   ],
   "source": [
    "cap = cv2.VideoCapture(0)\n",
    "\n",
    "#Face Detection\n",
    "face_cascade = cv2.CascadeClassifier(\"haarcascade_frontalface_default.xml\")\n",
    "\n",
    "skip = 0\n",
    "face_data = []\n",
    "dataset_path = \"Face Dataset\\\\\"\n",
    "file_name = input(\"Enter the name of the person: \")\n",
    "\n",
    "while(True):\n",
    "    ret, bgr_frame = cap.read()\n",
    "    if ret==False:\n",
    "        continue\n",
    "        \n",
    "    gray_frame = cv2.cvtColor(bgr_frame,cv2.COLOR_BGR2GRAY)\n",
    "    \n",
    "    faces = face_cascade.detectMultiScale(gray_frame, 1.3, 5)\n",
    "    #Sort the faces according to area\n",
    "    faces = sorted(faces, key=lambda f:f[2]*f[3])\n",
    "    \n",
    "    #Pick the largest face\n",
    "    for face in faces[-1:]:\n",
    "        x, y, w, h = face\n",
    "        \n",
    "        #Creating rectangle around the face\n",
    "        cv2.rectangle(bgr_frame, (x, y), (x+w, y+h), (255,0,0), 2)\n",
    "        offset = 10\n",
    "        face_section = bgr_frame[y-offset: y+h+offset, x-offset: x+w+offset]\n",
    "        face_section = cv2.resize(face_section, (100,100))\n",
    "        \n",
    "        if(skip%10==0):\n",
    "            face_data.append(face_section)\n",
    "            print(len(face_data))  \n",
    "        skip += 1\n",
    "        \n",
    "    cv2.imshow(\"Video Frame\", bgr_frame)\n",
    "    \n",
    "    key_pressed = cv2.waitKey(1) & 0xff\n",
    "    if key_pressed==ord(chr(13)):\n",
    "        break\n",
    "\n",
    "#Convert the face list into numpy array\n",
    "face_data = np.asarray(face_data)\n",
    "face_data = face_data.reshape((face_data.shape[0], -1))\n",
    "\n",
    "#Saving data into a file\n",
    "np.save(dataset_path+file_name+'.npy', face_data)\n",
    "print(\"Data saved at: \" + dataset_path + file_name + '.npy')\n",
    "        \n",
    "cap.release()\n",
    "cv2.destroyAllWindows()"
   ]
  },
  {
   "cell_type": "code",
   "execution_count": null,
   "metadata": {},
   "outputs": [],
   "source": []
  }
 ],
 "metadata": {
  "kernelspec": {
   "display_name": "Python 3",
   "language": "python",
   "name": "python3"
  },
  "language_info": {
   "codemirror_mode": {
    "name": "ipython",
    "version": 3
   },
   "file_extension": ".py",
   "mimetype": "text/x-python",
   "name": "python",
   "nbconvert_exporter": "python",
   "pygments_lexer": "ipython3",
   "version": "3.6.5"
  }
 },
 "nbformat": 4,
 "nbformat_minor": 2
}
